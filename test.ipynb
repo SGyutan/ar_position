{
 "cells": [
  {
   "cell_type": "code",
   "execution_count": null,
   "metadata": {},
   "outputs": [],
   "source": [
    "import os\n",
    "from pathlib import Path\n",
    "import time\n",
    "from datetime import datetime\n",
    "\n",
    "import pandas as pd\n",
    "from pandas import Series, DataFrame\n",
    "\n",
    "import scipy as sp\n",
    "from scipy.optimize import leastsq\n",
    "import numpy as np\n",
    "\n",
    "import matplotlib.pyplot as plt\n",
    "# import seaborn as sns\n",
    "# sns.set_style('whitegrid')\n",
    "%matplotlib inline\n",
    "\n",
    "#高解像度の設定（きれいな図が出力されますがファイルサイズが大きくなります）\n",
    "# %config InlineBackend.figure_formats = {'png', 'retina'}\n",
    "\n",
    "# 自作したモジュールを修正した場合に自動でリロードするために\n",
    "%load_ext autoreload\n",
    "%autoreload 2"
   ]
  },
  {
   "cell_type": "code",
   "execution_count": null,
   "metadata": {},
   "outputs": [],
   "source": [
    "# 自作モジュール\n",
    "from arqr_lib.ar_lib import ArBase\n",
    "from arqr_lib.qr_lib import QrBase"
   ]
  },
  {
   "cell_type": "code",
   "execution_count": null,
   "metadata": {},
   "outputs": [],
   "source": [
    "# example: Ar marker\n",
    "input_dir = Path('./photos')\n",
    "image_lists = list(input_dir.glob('wb*.jpg'))\n",
    "\n",
    "print(image_lists)\n",
    "\n",
    "for image_file in image_lists:\n",
    "    _ = ArBase.ar_find_overay(image_file=image_file, posetime=2, image_save=False)\n",
    "    # _ = ArBase.real_size_ar_with_indicator(image_file,output_path='./data',size= (150,150),ar_cut_position='edge')\n",
    "\n"
   ]
  },
  {
   "cell_type": "code",
   "execution_count": null,
   "metadata": {},
   "outputs": [],
   "source": [
    "for image_file in image_lists:\n",
    "    # _ = ArBase.ar_find_overay(image_file=image_file, posetime=2, image_save=False)\n",
    "    _ = ArBase.real_size_ar_with_indicator(image_file,output_path='./data',size= (150,150),ar_cut_position='edge')"
   ]
  }
 ],
 "metadata": {
  "kernelspec": {
   "display_name": "Python 3.7.1 64-bit ('base': conda)",
   "language": "python",
   "name": "python37164bitbaseconda2296c55bc3d54a76b568d97b2254b441"
  },
  "language_info": {
   "codemirror_mode": {
    "name": "ipython",
    "version": 3
   },
   "file_extension": ".py",
   "mimetype": "text/x-python",
   "name": "python",
   "nbconvert_exporter": "python",
   "pygments_lexer": "ipython3",
   "version": "3.7.6-final"
  }
 },
 "nbformat": 4,
 "nbformat_minor": 4
}